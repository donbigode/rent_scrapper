{
 "cells": [
  {
   "cell_type": "code",
   "execution_count": 4,
   "id": "ebfdc590",
   "metadata": {},
   "outputs": [],
   "source": [
    "a = ['1,222,222','1,232,123','1,200']"
   ]
  },
  {
   "cell_type": "code",
   "execution_count": 9,
   "id": "fe269729",
   "metadata": {},
   "outputs": [
    {
     "name": "stdout",
     "output_type": "stream",
     "text": [
      "1,222,222\n",
      "1,232,123\n",
      "1,200\n"
     ]
    }
   ],
   "source": [
    "b "
   ]
  },
  {
   "cell_type": "code",
   "execution_count": 11,
   "id": "7f9cef90",
   "metadata": {},
   "outputs": [
    {
     "name": "stdout",
     "output_type": "stream",
     "text": [
      "111,222,333,444,555.0000\n"
     ]
    }
   ],
   "source": [
    "a = \"111,222,333,444,555,0000\"\n",
    "b = a.replace(',', '.')\n",
    "cout = b.count('.')\n",
    "res = b.replace('.', ',', cout-1)\n",
    "print(res)"
   ]
  },
  {
   "cell_type": "code",
   "execution_count": null,
   "id": "555260ba",
   "metadata": {},
   "outputs": [],
   "source": []
  }
 ],
 "metadata": {
  "kernelspec": {
   "display_name": "Python 3",
   "language": "python",
   "name": "python3"
  },
  "language_info": {
   "codemirror_mode": {
    "name": "ipython",
    "version": 3
   },
   "file_extension": ".py",
   "mimetype": "text/x-python",
   "name": "python",
   "nbconvert_exporter": "python",
   "pygments_lexer": "ipython3",
   "version": "3.8.6"
  }
 },
 "nbformat": 4,
 "nbformat_minor": 5
}
